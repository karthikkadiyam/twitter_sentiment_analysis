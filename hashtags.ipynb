import re 
import tweepy 
from tweepy import OAuthHandler 
from textblob import TextBlob 
  
class TwitterClient(object): 
    ''' 
    Generic Twitter Class for sentiment analysis. 
    '''
    def __init__(self): 
        ''' 
        Class constructor or initialization method. 
        '''
        # keys and tokens from the Twitter Dev Console 
        consumer_key = 'cncAx1dQFFFxEeElSHeHJ0Xsk'
        consumer_secret = 'QX85D0b8pI5awlAv6ONBea5aqfVPykP5W7Db2hLV03Mx01C3p8'
        access_token = '984517538620104704-lkpo6W0xcIUTuW68udweWhw0EjV1dZz'
        access_token_secret = 'xb4AKGoG42nHkUAUM1MLMVYIZ2U09rtT9ENMj2JNnPzjE'
  
        # attempt authentication 
        try: 
            # create OAuthHandler object 
            self.auth = OAuthHandler(consumer_key, consumer_secret) 
            # set access token and secret 
            self.auth.set_access_token(access_token, access_token_secret) 
            # create tweepy API object to fetch tweets 
            self.api = tweepy.API(self.auth,wait_on_rate_limit=False) 
        except: 
            print("Error: Authentication Failed") 
  
    def clean_tweet(self, tweet): 
        ''' 
        Utility function to clean tweet text by removing links, special characters 
        using simple regex statements. 
        '''
        return ' '.join(re.sub("(@[A-Za-z0-9]+)|([^0-9A-Za-z \t]) | (\w+:\/\/\S+)", " ", tweet).split()) 
  
    def get_tweet_sentiment(self, tweet): 
        ''' 
        Utility function to classify sentiment of passed tweet 
        using textblob's sentiment method 
        '''
        # create TextBlob object of passed tweet text 
        analysis = TextBlob(self.clean_tweet(tweet)) 
        # set sentiment 
        if analysis.sentiment.polarity > 0: 
            return 1
        elif analysis.sentiment.polarity < 0: 
            return -1
        else: 
            return 0
  
    def get_tweets(self, query, count): 
        ''' 
        Main function to fetch tweets and parse them. 
        '''
        # empty list to store parsed tweets 
        tweets = []
  
        try: 
            # call twitter api to fetch tweets 
            fetched_tweets = tweepy.Cursor(self.api.search,q=query,count=count,
                               lang="en",
                               since="2018-12-18").items() 
  
            # parsing tweets one by one 
            for tweet in fetched_tweets: 
                # empty dictionary to store required params of a tweet 
                parsed_tweet = {} 
  
                # saving text of tweet 
                parsed_tweet['text'] = tweet.text 
                # saving sentiment of tweet 
                parsed_tweet['sentiment'] = self.get_tweet_sentiment(tweet.text) 
  
                # appending parsed tweet to tweets list 
                if tweet.retweet_count > 0: 
                    # if tweet has retweets, ensure that it is appended only once 
                    if parsed_tweet not in tweets: 
                        tweets.append(parsed_tweet) 
                else: 
                    tweets.append(parsed_tweet) 
  
            # return parsed tweets 
            return tweets 
  
        except tweepy.TweepError as e: 
            # print error (if any) 
            print("Error : " + str(e)) 
  
def main(): 
    # creating object of TwitterClient Class 
    api = TwitterClient()
    count_limit = 20
    
    # calling function to get tweets 
    tweets_away = api.get_tweets(query = '#Ravens', count = count_limit)
    tweets_away_count = 0
    for tweet in tweets_away:
        tweets_away_count = tweets_away_count + tweet['sentiment']
    print(tweets_away_count)
    
    tweets_home = api.get_tweets(query = '#Chargers', count = count_limit)
    tweets_home_count = 0
    for tweet in tweets_home:
        tweets_home_count = tweets_home_count + tweet['sentiment']
    print(tweets_home_count)
    
    if tweets_away_count > tweets_home_count:
        print("winner ravens")
    else:
        print("winner chargers")
 
  
if __name__ == "__main__": 
    # calling main function 
    main()
